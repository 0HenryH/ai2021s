{
  "nbformat": 4,
  "nbformat_minor": 5,
  "metadata": {
    "kernelspec": {
      "display_name": "Python 3",
      "language": "python",
      "name": "python3"
    },
    "language_info": {
      "codemirror_mode": {
        "name": "ipython",
        "version": 3
      },
      "file_extension": ".py",
      "mimetype": "text/x-python",
      "name": "python",
      "nbconvert_exporter": "python",
      "pygments_lexer": "ipython3",
      "version": "3.9.2"
    },
    "colab": {
      "name": "AI2021S-HW3.ipynb",
      "provenance": [],
      "collapsed_sections": []
    }
  },
  "cells": [
    {
      "cell_type": "markdown",
      "metadata": {
        "id": "5a1368f0"
      },
      "source": [
        "# 作业3：深度学习框架实践"
      ],
      "id": "5a1368f0"
    },
    {
      "cell_type": "markdown",
      "metadata": {
        "id": "294a04c2"
      },
      "source": [
        "本次作业将练习深度学习框架的使用，大部分内容用 PyTorch 实现。第1题利用卷积层和全连接层实现手写数字的识别，第2题利用 RNN 来实现英文名的自动生成，第3题是算法题，利用卷积运算实现任意大整数的乘法。"
      ],
      "id": "294a04c2"
    },
    {
      "cell_type": "markdown",
      "metadata": {
        "id": "f9ee659c"
      },
      "source": [
        "### 第1题"
      ],
      "id": "f9ee659c"
    },
    {
      "cell_type": "markdown",
      "metadata": {
        "id": "997082ed"
      },
      "source": [
        "1. 目标：通过对 MNIST 数据进行训练，构建一个简单的图像分类模型，对图片中的数字进行识别。你将利用该模型对自己真实手写出的数字进行预测，观察模型效果。"
      ],
      "id": "997082ed"
    },
    {
      "cell_type": "markdown",
      "metadata": {
        "id": "dc8ce0e1"
      },
      "source": [
        "2. 主要步骤：获取数据，创建模型结构，定义损失函数，编写训练循环，实施预测。"
      ],
      "id": "dc8ce0e1"
    },
    {
      "cell_type": "markdown",
      "metadata": {
        "id": "ccc63241"
      },
      "source": [
        "3. 获取数据。我们使用知名的 MNIST 数据集，它可以从 PyTorch 中利用工具函数下载得到。原始的 MNIST 数据训练集大小为60000，我们随机抽取其中的10000个观测进行简单的训练。以下函数会在当前目录建立一个名为 data 的文件夹，其中会包含下载得到的数据集。"
      ],
      "id": "ccc63241"
    },
    {
      "cell_type": "markdown",
      "metadata": {
        "id": "2069eef6"
      },
      "source": [
        "**注意：请在任何程序的最开始加上随机数种子的设置。请保持这一习惯。**"
      ],
      "id": "2069eef6"
    },
    {
      "cell_type": "code",
      "metadata": {
        "id": "7qFSdjxv_A46"
      },
      "source": [
        "# 查看gpu/tpu信息\n",
        "import tensorflow as tf\n",
        "tf.test.gpu_device_name()\n",
        "!/opt/bin/nvidia-smi\n",
        "# 安装环境\n",
        "!pip install pytorch-lightning\n",
        "!pip install numpy\n",
        "!pip install pandas\n",
        "!pip install torch torchvision\n",
        "!pip install minetorch\n",
        "!pip install matplotlib\n",
        "!pip install scipy\n",
        "!pip install scikit-learn\n",
        "!pip install seaborn\n",
        "!pip install category_encoders\n",
        "!pip install optuna\n",
        "\n",
        "\n",
        "# 载入driver数据\n",
        "from google.colab import drive\n",
        "drive.mount('/content/drive')\n",
        "!mkdir ./data\n",
        "!cp /content/drive/MyDrive/ai2021s/HW3.zip ./data/\n",
        "!cd ./data && unzip HW3.zip\n",
        "!cp /content/drive/MyDrive/ai2021s/digits.zip ./data/\n",
        "!cd ./data && unzip digits.zip\n",
        "\n",
        "# script\n",
        "!mkdir ./src\n",
        "!cp /content/drive/My\\ Drive/src/utils.py ./src"
      ],
      "id": "7qFSdjxv_A46",
      "execution_count": null,
      "outputs": []
    },
    {
      "cell_type": "code",
      "metadata": {
        "id": "57301cf0"
      },
      "source": [
        "import numpy as np\n",
        "import torch\n",
        "from torchvision import datasets\n",
        "from torchvision.transforms import ToTensor\n",
        "from torch.utils.data import DataLoader\n",
        "\n",
        "np.random.seed(123)\n",
        "torch.manual_seed(123)\n",
        "\n",
        "mnist = datasets.MNIST(\n",
        "    root=\"data\",\n",
        "    train=True,\n",
        "    download=True,\n",
        "    transform=ToTensor()\n",
        ")\n",
        "loader = DataLoader(mnist, batch_size=10000, shuffle=True)"
      ],
      "id": "57301cf0",
      "execution_count": 153,
      "outputs": []
    },
    {
      "cell_type": "markdown",
      "metadata": {
        "id": "afdaba44"
      },
      "source": [
        "我们一次性取出随机抽取到的10000个观测，其中 x 是图片数据，y 是图片对应的数字。"
      ],
      "id": "afdaba44"
    },
    {
      "cell_type": "code",
      "metadata": {
        "id": "61ae2977"
      },
      "source": [
        "x, y = next(iter(loader))"
      ],
      "id": "61ae2977",
      "execution_count": 154,
      "outputs": []
    },
    {
      "cell_type": "markdown",
      "metadata": {
        "id": "145971d1"
      },
      "source": [
        "一个习惯性动作是查看数据的大小和维度。"
      ],
      "id": "145971d1"
    },
    {
      "cell_type": "code",
      "metadata": {
        "colab": {
          "base_uri": "https://localhost:8080/"
        },
        "id": "d67073f6",
        "outputId": "5086a79d-9f39-4989-db31-495d81c48066"
      },
      "source": [
        "print(x.shape)\n",
        "print(y.shape)"
      ],
      "id": "d67073f6",
      "execution_count": 155,
      "outputs": [
        {
          "output_type": "stream",
          "text": [
            "torch.Size([10000, 1, 28, 28])\n",
            "torch.Size([10000])\n"
          ],
          "name": "stdout"
        }
      ]
    },
    {
      "cell_type": "markdown",
      "metadata": {
        "id": "f8a0aa24"
      },
      "source": [
        "我们可以利用下面的函数展示图片的内容。如选择第一张图片，先将其转换成 Numpy 数组，再绘制图形："
      ],
      "id": "f8a0aa24"
    },
    {
      "cell_type": "code",
      "metadata": {
        "scrolled": true,
        "colab": {
          "base_uri": "https://localhost:8080/",
          "height": 282
        },
        "id": "c2de2307",
        "outputId": "8fe3c68f-ec48-4bb9-a5d0-28e6da9c461b"
      },
      "source": [
        "import matplotlib.pyplot as plt\n",
        "\n",
        "img = x[0].squeeze().cpu().numpy()\n",
        "print(img.shape)\n",
        "plt.imshow(img, cmap=\"gray\")\n",
        "plt.show()"
      ],
      "id": "c2de2307",
      "execution_count": 156,
      "outputs": [
        {
          "output_type": "stream",
          "text": [
            "(28, 28)\n"
          ],
          "name": "stdout"
        },
        {
          "output_type": "display_data",
          "data": {
            "image/png": "[encoded data removed]",
            "text/plain": [
              "<Figure size 432x288 with 1 Axes>"
            ]
          },
          "metadata": {
            "tags": [],
            "needs_background": "light"
          }
        }
      ]
    },
    {
      "cell_type": "markdown",
      "metadata": {
        "id": "6ad3bff1"
      },
      "source": [
        "接下来请你选择5个你喜欢的数字（10000以下），然后取出对应位置的图片，并画出它们的内容。"
      ],
      "id": "6ad3bff1"
    },
    {
      "cell_type": "code",
      "metadata": {
        "colab": {
          "base_uri": "https://localhost:8080/",
          "height": 146
        },
        "id": "49728eff",
        "outputId": "5bbae797-9ea6-4f39-ecbf-c7280459a140"
      },
      "source": [
        "# Plot five digits here\n",
        "fig, axes = plt.subplots(1, 5, figsize=(10, 5))\n",
        "for s, i in enumerate([10, 50, 100, 1000, 5000]):\n",
        "    img = x[i].squeeze().cpu().numpy()\n",
        "    # print(img.shape)\n",
        "    axes[s].imshow(img, cmap=\"gray\")"
      ],
      "id": "49728eff",
      "execution_count": 157,
      "outputs": [
        {
          "output_type": "display_data",
          "data": {
            "image/png": "[encoded data removed]",
            "text/plain": [
              "<Figure size 720x360 with 5 Axes>"
            ]
          },
          "metadata": {
            "tags": [],
            "needs_background": "light"
          }
        }
      ]
    },
    {
      "cell_type": "markdown",
      "metadata": {
        "id": "35776058"
      },
      "source": [
        "4. 搭建模型。我们搭建一个类似于 LeNet-5 的网络，结构如下："
      ],
      "id": "35776058"
    },
    {
      "cell_type": "markdown",
      "metadata": {
        "id": "d175cb17"
      },
      "source": [
        "![](https://pic1.zhimg.com/80/v2-82eabb4c17e90d467197d013f7629f3c_720w.jpg)"
      ],
      "id": "d175cb17"
    },
    {
      "cell_type": "markdown",
      "metadata": {
        "id": "4ec06760"
      },
      "source": [
        "我们需要创建2个卷积层、2个汇聚层（池化层）和2个全连接层，**暂时忽略所有的激活函数**。所有隐藏层的函数细节都可以在[官方文档](https://pytorch.org/docs/stable/nn.html)中按分类找到。每一个隐藏层本质上都是将一个数组变换成另一个数组的函数，因此为了确认编写的模型是正确的，可以先用一个小数据进行测试，观察输入和输出的维度。例如，我们先取出前10个观测，此时输入的维度是 `[10, 1, 28, 28]`："
      ],
      "id": "4ec06760"
    },
    {
      "cell_type": "code",
      "metadata": {
        "colab": {
          "base_uri": "https://localhost:8080/"
        },
        "id": "a26ebf44",
        "outputId": "34e42a50-73e4-460c-ab8a-d1b34bd9e636"
      },
      "source": [
        "smallx = x[0:20]\n",
        "smally = y[0:20]\n",
        "print(smallx.shape)\n",
        "print(smally.shape)"
      ],
      "id": "a26ebf44",
      "execution_count": 158,
      "outputs": [
        {
          "output_type": "stream",
          "text": [
            "torch.Size([20, 1, 28, 28])\n",
            "torch.Size([20])\n"
          ],
          "name": "stdout"
        }
      ]
    },
    {
      "cell_type": "markdown",
      "metadata": {
        "id": "ada326cb"
      },
      "source": [
        "接下来创建第1个卷积层，并测试输出的维度。注意到我们可以直接将隐藏层当成一个函数来调用。"
      ],
      "id": "ada326cb"
    },
    {
      "cell_type": "code",
      "metadata": {
        "colab": {
          "base_uri": "https://localhost:8080/"
        },
        "id": "500c1874",
        "outputId": "e5acf4d5-42ac-4842-c345-19a0e9091eb0"
      },
      "source": [
        "conv1 = torch.nn.Conv2d(in_channels=1, out_channels=20, kernel_size=5, stride=1)\n",
        "res = conv1(smallx)\n",
        "print(res.shape)"
      ],
      "id": "500c1874",
      "execution_count": 159,
      "outputs": [
        {
          "output_type": "stream",
          "text": [
            "torch.Size([20, 20, 24, 24])\n"
          ],
          "name": "stdout"
        }
      ]
    },
    {
      "cell_type": "markdown",
      "metadata": {
        "id": "b2e8230d"
      },
      "source": [
        "可以看到，输出的维度为 `[20, 24, 24]`（不包括第1位的数据批次维度），与之前图中的结果吻合。"
      ],
      "id": "b2e8230d"
    },
    {
      "cell_type": "markdown",
      "metadata": {
        "id": "cfc3c891"
      },
      "source": [
        "接下来，请按照图中提示编写层对象 `pool1`、`conv2`、`pool2`、`fc1` 和 `fc2`，并顺次测试输入与输出的维度，使其与上图匹配。注意，在将一个大小为 `[10, 50, 4, 4]` 的数组（假设叫 `somearray`）传递给 `fc1` 之前，需要先将其变形为只有两个维度的数组，做法是 `somearray.view(-1, 50*4*4)`，其中 -1 表示该位置的大小不变。"
      ],
      "id": "cfc3c891"
    },
    {
      "cell_type": "markdown",
      "metadata": {
        "id": "94e3f58c"
      },
      "source": [
        "```py\n",
        "pool1 = ...\n",
        "res = pool1(res)\n",
        "print(res.shape)\n",
        "\n",
        "conv2 = ...\n",
        "res = conv2(res)\n",
        "print(res.shape)\n",
        "\n",
        "pool2 = ...\n",
        "res = pool2(res)\n",
        "print(res.shape)\n",
        "\n",
        "fc1 = ...\n",
        "res = fc1(res.view(-1, 50 * 4 * 4))\n",
        "print(res.shape)\n",
        "\n",
        "fc2 = ...\n",
        "res = fc2(res)\n",
        "print(res.shape)\n",
        "```"
      ],
      "id": "94e3f58c"
    },
    {
      "cell_type": "code",
      "metadata": {
        "colab": {
          "base_uri": "https://localhost:8080/"
        },
        "id": "89164f79",
        "outputId": "9e47b7f6-9b1c-4892-9fd6-f8f677f57463"
      },
      "source": [
        "pool1 = torch.nn.MaxPool2d(2, stride=2)\n",
        "res = pool1(res)\n",
        "print(res.shape)\n",
        "\n",
        "conv2 = torch.nn.Conv2d(in_channels=20, out_channels=50, kernel_size=5, stride=1)\n",
        "res = conv2(res)\n",
        "print(res.shape)\n",
        "\n",
        "pool2 = torch.nn.MaxPool2d(2, stride=2)\n",
        "res = pool2(res)\n",
        "print(res.shape)\n",
        "\n",
        "fc1 = torch.nn.Linear(50*4*4, 500)\n",
        "res = fc1(res.view(-1, 50*4*4))\n",
        "print(res.shape)\n",
        "\n",
        "fc2 = torch.nn.Linear(500, 10)\n",
        "res = fc2(res)\n",
        "print(res.shape)"
      ],
      "id": "89164f79",
      "execution_count": 160,
      "outputs": [
        {
          "output_type": "stream",
          "text": [
            "torch.Size([20, 20, 12, 12])\n",
            "torch.Size([20, 50, 8, 8])\n",
            "torch.Size([20, 50, 4, 4])\n",
            "torch.Size([20, 500])\n",
            "torch.Size([20, 10])\n"
          ],
          "name": "stdout"
        }
      ]
    },
    {
      "cell_type": "markdown",
      "metadata": {
        "id": "91ba53a4"
      },
      "source": [
        "5. 创建模型类。在确保隐藏层维度都正确后，将所有的隐藏层封装到一个模型类中，其中模型结构在 `__init__()` 中定义，具体的计算过程在 `forward()` 中实现。此时需要加入激活函数。在本模型中，**请在 `conv1`、`conv2` 和 `fc1` 后加入 ReLU 激活函数，并在 `fc2` 后加入 Softmax 激活函数**。"
      ],
      "id": "91ba53a4"
    },
    {
      "cell_type": "markdown",
      "metadata": {
        "id": "415791e4"
      },
      "source": [
        "```py\n",
        "class MyModel(torch.nn.Module):\n",
        "    def __init__(self):\n",
        "        super().__init__()\n",
        "        self.conv1 = ...\n",
        "        self.pool1 = ...\n",
        "        self.conv2 = ...\n",
        "        self.pool2 = ...\n",
        "        self.fc1 = ...\n",
        "        self.fc2 = ...\n",
        "\n",
        "    def forward(self, x):\n",
        "        x = self.conv1(x)\n",
        "        x = torch.relu(x)\n",
        "        x = self.pool1(x)\n",
        "        ...\n",
        "        return x\n",
        "```"
      ],
      "id": "415791e4"
    },
    {
      "cell_type": "code",
      "metadata": {
        "id": "SoL3Hfa_HKZe"
      },
      "source": [
        "# pool1 = torch.nn.MaxPool2d(2, stride=2)\n",
        "# res = pool1(res)\n",
        "# print(res.shape)\n",
        "\n",
        "# conv2 = torch.nn.Conv2d(in_channels=20, out_channels=50, kernel_size=5, stride=1)\n",
        "# res = conv2(res)\n",
        "# print(res.shape)\n",
        "\n",
        "# pool2 = torch.nn.MaxPool2d(2, stride=2)\n",
        "# res = pool2(res)\n",
        "# print(res.shape)\n",
        "\n",
        "# fc1 = torch.nn.Linear(50*4*4, 500)\n",
        "# res = fc1(res.view(-1, 50*4*4))\n",
        "# print(res.shape)\n",
        "\n",
        "# fc2 = torch.nn.Linear(500, 10)\n",
        "# res = fc2(res)\n",
        "# print(res.shape)"
      ],
      "id": "SoL3Hfa_HKZe",
      "execution_count": 161,
      "outputs": []
    },
    {
      "cell_type": "code",
      "metadata": {
        "id": "9f6b79df"
      },
      "source": [
        "class LeNet(torch.nn.Module):\n",
        "    def __init__(self):\n",
        "        super().__init__()\n",
        "        self.conv_layer = torch.nn.Sequential(\n",
        "            torch.nn.Conv2d(in_channels=1, out_channels=20, kernel_size=5, stride=1),\n",
        "            torch.nn.MaxPool2d(2, stride=2),\n",
        "            torch.nn.Conv2d(in_channels=20, out_channels=50, kernel_size=5, stride=1),\n",
        "            torch.nn.MaxPool2d(2, stride=2)\n",
        "        )\n",
        "        self.fc_layer = torch.nn.Sequential(\n",
        "            torch.nn.Linear(50*4*4, 500),\n",
        "            torch.nn.ReLU(),\n",
        "            torch.nn.Linear(500, 10),\n",
        "            torch.nn.Softmax(dim=1)\n",
        "        )\n",
        "\n",
        "    def forward(self, x):\n",
        "        res = self.conv_layer(x)\n",
        "        res = self.fc_layer(res.view(-1, 50*4*4))\n",
        "        return res"
      ],
      "id": "9f6b79df",
      "execution_count": 162,
      "outputs": []
    },
    {
      "cell_type": "markdown",
      "metadata": {
        "id": "49894cba"
      },
      "source": [
        "再次测试输入输出的维度是否正确。如果模型编写正确，输出的维度应该是 `[10, 10]`，且输出结果为0到1之间的概率值。"
      ],
      "id": "49894cba"
    },
    {
      "cell_type": "code",
      "metadata": {
        "colab": {
          "base_uri": "https://localhost:8080/"
        },
        "id": "95558fc5",
        "outputId": "bd06a402-4f50-4b16-8bc2-a7dce5f2341d"
      },
      "source": [
        "np.random.seed(123)\n",
        "torch.manual_seed(123)\n",
        "\n",
        "model = LeNet()\n",
        "pred = model(smallx)\n",
        "print(pred.shape)\n",
        "print(pred)"
      ],
      "id": "95558fc5",
      "execution_count": 163,
      "outputs": [
        {
          "output_type": "stream",
          "text": [
            "torch.Size([20, 10])\n",
            "tensor([[0.0983, 0.0986, 0.1023, 0.1098, 0.0926, 0.0923, 0.0969, 0.1010, 0.1043,\n",
            "         0.1039],\n",
            "        [0.0996, 0.1023, 0.0976, 0.1066, 0.0946, 0.0890, 0.0958, 0.1051, 0.1025,\n",
            "         0.1070],\n",
            "        [0.0997, 0.0979, 0.0971, 0.1058, 0.0933, 0.0881, 0.0978, 0.1134, 0.1042,\n",
            "         0.1028],\n",
            "        [0.0929, 0.1025, 0.1000, 0.1054, 0.0936, 0.0893, 0.0970, 0.1091, 0.1040,\n",
            "         0.1061],\n",
            "        [0.1037, 0.0976, 0.0995, 0.1093, 0.0941, 0.0887, 0.0962, 0.1023, 0.1019,\n",
            "         0.1067],\n",
            "        [0.0986, 0.1010, 0.1008, 0.1058, 0.0928, 0.0903, 0.0994, 0.1036, 0.1047,\n",
            "         0.1031],\n",
            "        [0.0996, 0.1002, 0.0986, 0.1065, 0.0945, 0.0905, 0.0986, 0.1073, 0.1026,\n",
            "         0.1017],\n",
            "        [0.1000, 0.0982, 0.1017, 0.1068, 0.0880, 0.0893, 0.0977, 0.1059, 0.1043,\n",
            "         0.1082],\n",
            "        [0.0982, 0.0990, 0.1030, 0.1089, 0.0950, 0.0910, 0.0997, 0.0991, 0.1029,\n",
            "         0.1031],\n",
            "        [0.0980, 0.1019, 0.0990, 0.1056, 0.0958, 0.0878, 0.0963, 0.1087, 0.1022,\n",
            "         0.1047],\n",
            "        [0.0951, 0.1002, 0.0984, 0.1066, 0.0965, 0.0904, 0.0986, 0.1074, 0.1028,\n",
            "         0.1041],\n",
            "        [0.0985, 0.1030, 0.0984, 0.1064, 0.0952, 0.0902, 0.0964, 0.1074, 0.1018,\n",
            "         0.1027],\n",
            "        [0.1024, 0.0967, 0.0960, 0.1061, 0.0925, 0.0866, 0.0974, 0.1120, 0.1057,\n",
            "         0.1047],\n",
            "        [0.0966, 0.1010, 0.0988, 0.1080, 0.0979, 0.0903, 0.0998, 0.1007, 0.1025,\n",
            "         0.1044],\n",
            "        [0.0995, 0.1021, 0.0982, 0.1073, 0.0956, 0.0878, 0.0956, 0.1057, 0.1046,\n",
            "         0.1036],\n",
            "        [0.0982, 0.1030, 0.0962, 0.1086, 0.0897, 0.0856, 0.0949, 0.1134, 0.1018,\n",
            "         0.1086],\n",
            "        [0.0962, 0.1010, 0.1006, 0.1087, 0.0949, 0.0897, 0.0999, 0.1020, 0.1022,\n",
            "         0.1048],\n",
            "        [0.0987, 0.0990, 0.1005, 0.1085, 0.0922, 0.0882, 0.0973, 0.1060, 0.1034,\n",
            "         0.1062],\n",
            "        [0.0969, 0.1012, 0.1000, 0.1066, 0.0934, 0.0907, 0.0982, 0.1068, 0.1019,\n",
            "         0.1042],\n",
            "        [0.0954, 0.0982, 0.0946, 0.1064, 0.0921, 0.0894, 0.0989, 0.1166, 0.1045,\n",
            "         0.1039]], grad_fn=<SoftmaxBackward>)\n"
          ],
          "name": "stdout"
        }
      ]
    },
    {
      "cell_type": "code",
      "metadata": {
        "colab": {
          "base_uri": "https://localhost:8080/"
        },
        "id": "DNHQE0zWKlkX",
        "outputId": "1eb84ea2-bf75-4bc0-8860-521e63d27022"
      },
      "source": [
        "pred.sum(axis=1)"
      ],
      "id": "DNHQE0zWKlkX",
      "execution_count": 164,
      "outputs": [
        {
          "output_type": "execute_result",
          "data": {
            "text/plain": [
              "tensor([1.0000, 1.0000, 1.0000, 1.0000, 1.0000, 1.0000, 1.0000, 1.0000, 1.0000,\n",
              "        1.0000, 1.0000, 1.0000, 1.0000, 1.0000, 1.0000, 1.0000, 1.0000, 1.0000,\n",
              "        1.0000, 1.0000], grad_fn=<SumBackward1>)"
            ]
          },
          "metadata": {
            "tags": []
          },
          "execution_count": 164
        }
      ]
    },
    {
      "cell_type": "markdown",
      "metadata": {
        "id": "3b8236f0"
      },
      "source": [
        "`pred` 的每一行加总为1，其中每一个元素代表对应类别的预测概率。"
      ],
      "id": "3b8236f0"
    },
    {
      "cell_type": "markdown",
      "metadata": {
        "id": "1ca3a05a"
      },
      "source": [
        "我们还可以直接打印模型对象，观察隐藏层的结构："
      ],
      "id": "1ca3a05a"
    },
    {
      "cell_type": "code",
      "metadata": {
        "colab": {
          "base_uri": "https://localhost:8080/"
        },
        "id": "20a4eb6f",
        "outputId": "ae67ca4a-76af-49f9-99ba-bbff4ff5056d"
      },
      "source": [
        "print(model)"
      ],
      "id": "20a4eb6f",
      "execution_count": 165,
      "outputs": [
        {
          "output_type": "stream",
          "text": [
            "LeNet(\n",
            "  (conv_layer): Sequential(\n",
            "    (0): Conv2d(1, 20, kernel_size=(5, 5), stride=(1, 1))\n",
            "    (1): MaxPool2d(kernel_size=2, stride=2, padding=0, dilation=1, ceil_mode=False)\n",
            "    (2): Conv2d(20, 50, kernel_size=(5, 5), stride=(1, 1))\n",
            "    (3): MaxPool2d(kernel_size=2, stride=2, padding=0, dilation=1, ceil_mode=False)\n",
            "  )\n",
            "  (fc_layer): Sequential(\n",
            "    (0): Linear(in_features=800, out_features=500, bias=True)\n",
            "    (1): ReLU()\n",
            "    (2): Linear(in_features=500, out_features=10, bias=True)\n",
            "    (3): Softmax(dim=1)\n",
            "  )\n",
            ")\n"
          ],
          "name": "stdout"
        }
      ]
    },
    {
      "cell_type": "markdown",
      "metadata": {
        "id": "ffd11e33"
      },
      "source": [
        "6. 损失函数。对于分类问题，损失函数通常选取为负对数似然函数。在 PyTorch 中，可以使用 `torch.nn.NLLLoss` 来完成计算。其用法是先定义一个损失函数对象，然后在预测值和真实标签上调用该函数对象。注意：损失函数对象的第一个参数是预测概率的**对数值**，第二个参数是真实的标签。[文档说明](https://pytorch.org/docs/stable/generated/torch.nn.NLLLoss.html)。"
      ],
      "id": "ffd11e33"
    },
    {
      "cell_type": "code",
      "metadata": {
        "colab": {
          "base_uri": "https://localhost:8080/"
        },
        "id": "6f4ee18e",
        "outputId": "75199110-2d90-4ab1-c2dc-1e2b31d6817c"
      },
      "source": [
        "lossfn = torch.nn.NLLLoss()\n",
        "lossfn(torch.log(pred), smally)"
      ],
      "id": "6f4ee18e",
      "execution_count": 166,
      "outputs": [
        {
          "output_type": "execute_result",
          "data": {
            "text/plain": [
              "tensor(2.3278, grad_fn=<NllLossBackward>)"
            ]
          },
          "metadata": {
            "tags": []
          },
          "execution_count": 166
        }
      ]
    },
    {
      "cell_type": "markdown",
      "metadata": {
        "id": "c53f5d1a"
      },
      "source": [
        "7. 利用课上介绍的循环模板和代码示例，对模型进行迭代训练。对于本数据，选取 mini-batch 大小为200，共遍历数据10遍，优化器选为 Adam，学习率为0.001。"
      ],
      "id": "c53f5d1a"
    },
    {
      "cell_type": "code",
      "metadata": {
        "colab": {
          "base_uri": "https://localhost:8080/"
        },
        "id": "b99d1bb8",
        "outputId": "b9a52f21-d18e-4a5b-c1ef-25a3a531d468"
      },
      "source": [
        "nepoch = 10\n",
        "batch_size = 200\n",
        "\n",
        "model = LeNet()\n",
        "opt = torch.optim.Adam(model.parameters(), lr=0.0001)\n",
        "\n",
        "n = x.shape[0]\n",
        "obs_id = np.arange(n)  # [0, 1, ..., n-1]\n",
        "# Run the whole data set `nepoch` times\n",
        "for i in range(nepoch):\n",
        "    # Shuffle observation IDs\n",
        "    np.random.shuffle(obs_id)\n",
        "\n",
        "    # Update on mini-batches\n",
        "    for j in range(0, n, batch_size):\n",
        "        # Create mini-batch\n",
        "        x_mini_batch = x[obs_id[j:(j + batch_size)]]\n",
        "        y_mini_batch = y[obs_id[j:(j + batch_size)]]\n",
        "        # Compute loss\n",
        "        pred = model(x_mini_batch)\n",
        "        lossfn = torch.nn.NLLLoss()\n",
        "        loss = lossfn(torch.log(pred), y_mini_batch)\n",
        "        # Compute gradient and update parameters\n",
        "        opt.zero_grad()\n",
        "        loss.backward()\n",
        "        opt.step()\n",
        "\n",
        "        if (j // batch_size) % 10 == 0:\n",
        "            print(f\"epoch {i}, batch {j // batch_size}, loss = {loss.item()}\")"
      ],
      "id": "b99d1bb8",
      "execution_count": 167,
      "outputs": [
        {
          "output_type": "stream",
          "text": [
            "epoch 0, batch 0, loss = 2.2982962131500244\n",
            "epoch 0, batch 10, loss = 2.1863176822662354\n",
            "epoch 0, batch 20, loss = 2.0785770416259766\n",
            "epoch 0, batch 30, loss = 1.9274557828903198\n",
            "epoch 0, batch 40, loss = 1.6302570104599\n",
            "epoch 1, batch 0, loss = 1.3760998249053955\n",
            "epoch 1, batch 10, loss = 1.1694927215576172\n",
            "epoch 1, batch 20, loss = 0.8895391225814819\n",
            "epoch 1, batch 30, loss = 0.80918288230896\n",
            "epoch 1, batch 40, loss = 0.6207155585289001\n",
            "epoch 2, batch 0, loss = 0.6358242630958557\n",
            "epoch 2, batch 10, loss = 0.47683170437812805\n",
            "epoch 2, batch 20, loss = 0.5217666625976562\n",
            "epoch 2, batch 30, loss = 0.4376486837863922\n",
            "epoch 2, batch 40, loss = 0.41190648078918457\n",
            "epoch 3, batch 0, loss = 0.37967923283576965\n",
            "epoch 3, batch 10, loss = 0.4022546708583832\n",
            "epoch 3, batch 20, loss = 0.3303138017654419\n",
            "epoch 3, batch 30, loss = 0.45458054542541504\n",
            "epoch 3, batch 40, loss = 0.3156256079673767\n",
            "epoch 4, batch 0, loss = 0.372991681098938\n",
            "epoch 4, batch 10, loss = 0.3252071142196655\n",
            "epoch 4, batch 20, loss = 0.3894018232822418\n",
            "epoch 4, batch 30, loss = 0.3371354937553406\n",
            "epoch 4, batch 40, loss = 0.3092578053474426\n",
            "epoch 5, batch 0, loss = 0.3838619589805603\n",
            "epoch 5, batch 10, loss = 0.35474151372909546\n",
            "epoch 5, batch 20, loss = 0.2608743906021118\n",
            "epoch 5, batch 30, loss = 0.40577176213264465\n",
            "epoch 5, batch 40, loss = 0.24075022339820862\n",
            "epoch 6, batch 0, loss = 0.2681916356086731\n",
            "epoch 6, batch 10, loss = 0.31439051032066345\n",
            "epoch 6, batch 20, loss = 0.27654245495796204\n",
            "epoch 6, batch 30, loss = 0.2514277398586273\n",
            "epoch 6, batch 40, loss = 0.2646764814853668\n",
            "epoch 7, batch 0, loss = 0.2237880527973175\n",
            "epoch 7, batch 10, loss = 0.2284124195575714\n",
            "epoch 7, batch 20, loss = 0.3261161148548126\n",
            "epoch 7, batch 30, loss = 0.18211299180984497\n",
            "epoch 7, batch 40, loss = 0.19975711405277252\n",
            "epoch 8, batch 0, loss = 0.25796520709991455\n",
            "epoch 8, batch 10, loss = 0.2255590856075287\n",
            "epoch 8, batch 20, loss = 0.1853993535041809\n",
            "epoch 8, batch 30, loss = 0.2100638896226883\n",
            "epoch 8, batch 40, loss = 0.18286584317684174\n",
            "epoch 9, batch 0, loss = 0.2209252566099167\n",
            "epoch 9, batch 10, loss = 0.17186786234378815\n",
            "epoch 9, batch 20, loss = 0.18020515143871307\n",
            "epoch 9, batch 30, loss = 0.22360405325889587\n",
            "epoch 9, batch 40, loss = 0.1799485832452774\n"
          ],
          "name": "stdout"
        }
      ]
    },
    {
      "cell_type": "markdown",
      "metadata": {
        "id": "0cc09b3f"
      },
      "source": [
        "为了验证模型的效果，我们对前10个观测（即之前生成的 `smallx` 和 `smally`）进行预测。"
      ],
      "id": "0cc09b3f"
    },
    {
      "cell_type": "code",
      "metadata": {
        "colab": {
          "base_uri": "https://localhost:8080/"
        },
        "id": "80a99a6e",
        "outputId": "99ad7782-a8a8-4013-bbfa-4af0d9d8358f"
      },
      "source": [
        "ypred = model(smallx)\n",
        "print(np.round(ypred.detach().cpu().numpy(), 3))\n",
        "print(smally)"
      ],
      "id": "80a99a6e",
      "execution_count": 168,
      "outputs": [
        {
          "output_type": "stream",
          "text": [
            "[[0.    0.    0.    0.    0.    0.    0.    1.    0.    0.   ]\n",
            " [0.    0.    0.    0.    0.955 0.    0.    0.009 0.    0.036]\n",
            " [0.    0.    0.    0.003 0.    0.996 0.    0.    0.    0.   ]\n",
            " [0.    0.    0.006 0.    0.978 0.    0.005 0.001 0.    0.01 ]\n",
            " [0.998 0.    0.    0.    0.    0.002 0.    0.    0.    0.   ]\n",
            " [0.    0.    0.    0.    0.001 0.    0.    0.879 0.001 0.118]\n",
            " [0.    0.986 0.004 0.001 0.001 0.001 0.    0.004 0.004 0.   ]\n",
            " [1.    0.    0.    0.    0.    0.    0.    0.    0.    0.   ]\n",
            " [0.    0.    0.    0.    0.    0.    0.    0.998 0.    0.002]\n",
            " [0.    0.    0.    0.    0.982 0.    0.    0.001 0.    0.018]\n",
            " [0.    0.983 0.001 0.    0.    0.    0.004 0.    0.011 0.   ]\n",
            " [0.    0.    0.    0.    0.996 0.    0.    0.    0.    0.004]\n",
            " [0.    0.    0.939 0.059 0.    0.001 0.001 0.    0.    0.   ]\n",
            " [0.    0.999 0.    0.    0.    0.    0.    0.    0.    0.   ]\n",
            " [0.    0.    0.    0.    0.995 0.    0.    0.001 0.    0.004]\n",
            " [0.    0.    0.    0.    0.    0.    0.998 0.    0.002 0.   ]\n",
            " [0.    0.995 0.    0.    0.    0.001 0.001 0.    0.002 0.   ]\n",
            " [0.935 0.    0.005 0.    0.    0.049 0.002 0.    0.009 0.   ]\n",
            " [0.    0.    0.    0.    0.    0.998 0.    0.    0.002 0.   ]\n",
            " [0.    0.    0.    0.    0.    0.    0.999 0.    0.001 0.   ]]\n",
            "tensor([7, 4, 5, 4, 0, 7, 1, 0, 7, 4, 1, 4, 2, 1, 4, 6, 1, 0, 5, 6])\n"
          ],
          "name": "stdout"
        }
      ]
    },
    {
      "cell_type": "markdown",
      "metadata": {
        "id": "38c93ff3"
      },
      "source": [
        "如果模型搭建和训练都正常，那么每一行中概率最大的取值所在的位置应该正好对应真实的标签。"
      ],
      "id": "38c93ff3"
    },
    {
      "cell_type": "markdown",
      "metadata": {
        "id": "6c34de42"
      },
      "source": [
        "最后，我们用模型对一些真实的手写数字图片进行预测。请你利用绘图软件（如 Windows 自带的绘图，或 Photoshop 等）准备10张正方形黑色底色的图片，每张用鼠标绘制一个数字（请使用较粗的笔划），从0到9，然后以0.png，1.png等文件名存储下来，放到当前目录一个名为 digits 的文件夹中。以下是几个例子：\n",
        "![](digits/sample0.png) ![](digits/sample5.png) ![](digits/sample8.png)"
      ],
      "id": "6c34de42"
    },
    {
      "cell_type": "markdown",
      "metadata": {
        "id": "35066889"
      },
      "source": [
        "接下来利用 Pillow 软件包读取图片："
      ],
      "id": "35066889"
    },
    {
      "cell_type": "code",
      "metadata": {
        "scrolled": true,
        "id": "0d19fbd2",
        "colab": {
          "base_uri": "https://localhost:8080/",
          "height": 278
        },
        "outputId": "868619fe-f740-4b77-e778-8f15c2c72cef"
      },
      "source": [
        "from PIL import Image\n",
        "im = Image.open(\"/content/data/HW3/digits/sample0.png\")\n",
        "im"
      ],
      "id": "0d19fbd2",
      "execution_count": 169,
      "outputs": [
        {
          "output_type": "execute_result",
          "data": {
            "image/png": "[encoded data removed]",
            "text/plain": [
              "<PIL.PngImagePlugin.PngImageFile image mode=RGB size=261x261 at 0x7F0C01527C90>"
            ]
          },
          "metadata": {
            "tags": []
          },
          "execution_count": 169
        }
      ]
    },
    {
      "cell_type": "markdown",
      "metadata": {
        "id": "7f30128c"
      },
      "source": [
        "此时如果直接将其转为 Numpy 数组会得到三个通道："
      ],
      "id": "7f30128c"
    },
    {
      "cell_type": "code",
      "metadata": {
        "id": "f3999832",
        "colab": {
          "base_uri": "https://localhost:8080/"
        },
        "outputId": "377f0c4a-89c3-43dc-92aa-e68dbd797c1a"
      },
      "source": [
        "im_arr = np.array(im)\n",
        "print(im_arr.shape)"
      ],
      "id": "f3999832",
      "execution_count": 170,
      "outputs": [
        {
          "output_type": "stream",
          "text": [
            "(261, 261, 3)\n"
          ],
          "name": "stdout"
        }
      ]
    },
    {
      "cell_type": "markdown",
      "metadata": {
        "id": "06d85450"
      },
      "source": [
        "因此，我们先强制转换为灰度图片（单通道），再缩放至模型的图片大小 28 x 28："
      ],
      "id": "06d85450"
    },
    {
      "cell_type": "code",
      "metadata": {
        "id": "102618e8",
        "colab": {
          "base_uri": "https://localhost:8080/",
          "height": 62
        },
        "outputId": "c850cb11-8854-4e9c-bd91-1ae086f2cb4c"
      },
      "source": [
        "im = im.convert(\"L\")\n",
        "im.thumbnail((28, 28))\n",
        "im_arr = np.array(im)\n",
        "print(im_arr.shape)\n",
        "im"
      ],
      "id": "102618e8",
      "execution_count": 171,
      "outputs": [
        {
          "output_type": "stream",
          "text": [
            "(28, 28)\n"
          ],
          "name": "stdout"
        },
        {
          "output_type": "execute_result",
          "data": {
            "image/png": "[encoded data removed]",
            "text/plain": [
              "<PIL.Image.Image image mode=L size=28x28 at 0x7F0C01655E10>"
            ]
          },
          "metadata": {
            "tags": []
          },
          "execution_count": 171
        }
      ]
    },
    {
      "cell_type": "markdown",
      "metadata": {
        "id": "3978a9d6"
      },
      "source": [
        "为了传递给模型对象，还需要先将数值归一化到 [0,1] 区间，转换为 PyTorch 的 Tensor 类型，并增加一个批次和一个通道的维度："
      ],
      "id": "3978a9d6"
    },
    {
      "cell_type": "code",
      "metadata": {
        "id": "ce6af013",
        "colab": {
          "base_uri": "https://localhost:8080/"
        },
        "outputId": "54dfbbbf-f7fa-42ee-9892-e9d85b6a433a"
      },
      "source": [
        "test0 = torch.tensor(im_arr / 255.0, dtype=torch.float32).view(1, 1, 28, 28)\n",
        "print(test0.shape)"
      ],
      "id": "ce6af013",
      "execution_count": 172,
      "outputs": [
        {
          "output_type": "stream",
          "text": [
            "torch.Size([1, 1, 28, 28])\n"
          ],
          "name": "stdout"
        }
      ]
    },
    {
      "cell_type": "markdown",
      "metadata": {
        "id": "69402359"
      },
      "source": [
        "最后对图片标签进行预测："
      ],
      "id": "69402359"
    },
    {
      "cell_type": "code",
      "metadata": {
        "id": "28b1f088",
        "colab": {
          "base_uri": "https://localhost:8080/"
        },
        "outputId": "a318c35f-c49d-40c2-d839-17e2f4191ee5"
      },
      "source": [
        "pred0 = model(test0)\n",
        "print(np.round(pred0.detach().cpu().numpy(), 3))"
      ],
      "id": "28b1f088",
      "execution_count": 173,
      "outputs": [
        {
          "output_type": "stream",
          "text": [
            "[[0.468 0.    0.259 0.002 0.038 0.017 0.167 0.009 0.009 0.03 ]]\n"
          ],
          "name": "stdout"
        }
      ]
    },
    {
      "cell_type": "markdown",
      "metadata": {
        "id": "6ebafef2"
      },
      "source": [
        "预测结果是否符合真实情形？请对你自己绘制出的10张图片进行类似的预测操作，并评价其效果。"
      ],
      "id": "6ebafef2"
    },
    {
      "cell_type": "code",
      "metadata": {
        "colab": {
          "base_uri": "https://localhost:8080/"
        },
        "id": "G_8gPJaoecv3",
        "outputId": "c6b64e13-5ac0-44cb-e189-05a6124a4bd9"
      },
      "source": [
        "for i in range(10):\n",
        "    im = Image.open(\"/content/data/myDraw_%s.png\" % i)\n",
        "    im = im.convert(\"L\")\n",
        "    im.thumbnail((28, 28))\n",
        "    im_arr = np.array(im)\n",
        "    test = torch.tensor(im_arr / 255.0, dtype=torch.float32).view(1, 1, 28, 28)\n",
        "    pred = model(test)[0].detach().cpu().numpy()\n",
        "    print(\"数字%s的预测为: %s\" % (i, pred.argmax()))"
      ],
      "id": "G_8gPJaoecv3",
      "execution_count": 176,
      "outputs": [
        {
          "output_type": "stream",
          "text": [
            "数字0的预测为: 0\n",
            "数字1的预测为: 1\n",
            "数字2的预测为: 4\n",
            "数字3的预测为: 3\n",
            "数字4的预测为: 4\n",
            "数字5的预测为: 5\n",
            "数字6的预测为: 6\n",
            "数字7的预测为: 7\n",
            "数字8的预测为: 8\n",
            "数字9的预测为: 9\n"
          ],
          "name": "stdout"
        }
      ]
    },
    {
      "cell_type": "markdown",
      "metadata": {
        "id": "6ewaW-JXedUq"
      },
      "source": [
        "可以看到，仅数字2错误预测为4，预测准确度在该小样本上达到90%"
      ],
      "id": "6ewaW-JXedUq"
    },
    {
      "cell_type": "markdown",
      "metadata": {
        "id": "e5495037"
      },
      "source": [
        "### 第2题"
      ],
      "id": "e5495037"
    },
    {
      "cell_type": "markdown",
      "metadata": {
        "id": "397c0d2c"
      },
      "source": [
        "1. 目标：通过对英文名数据进行训练，构建一个 RNN 模型，实现英文名的自动生成。"
      ],
      "id": "397c0d2c"
    },
    {
      "cell_type": "markdown",
      "metadata": {
        "id": "65bfcc5b"
      },
      "source": [
        "2. 主要步骤：获取和整理数据，对字符串进行 one-hot 编码，创建模型结构，定义损失函数，编写训练循环，最后生成人名字符串。"
      ],
      "id": "65bfcc5b"
    },
    {
      "cell_type": "markdown",
      "metadata": {
        "id": "0c45928f"
      },
      "source": [
        "3. 获取和整理数据。数据文件已存为 `data/names.txt`，先将其读取为字符串列表："
      ],
      "id": "0c45928f"
    },
    {
      "cell_type": "code",
      "metadata": {
        "id": "01c31142",
        "colab": {
          "base_uri": "https://localhost:8080/"
        },
        "outputId": "68e81a8c-3037-4cd3-f8c3-6c9fd3b55dbd"
      },
      "source": [
        "import io\n",
        "lines = io.open(\"/content/data/HW3/data/names.txt\").read().strip().split('\\n')\n",
        "print(len(lines))\n",
        "print(lines[0:5])"
      ],
      "id": "01c31142",
      "execution_count": 29,
      "outputs": [
        {
          "output_type": "stream",
          "text": [
            "3668\n",
            "['Abbas', 'Abbey', 'Abbott', 'Abdi', 'Abel']\n"
          ],
          "name": "stdout"
        }
      ]
    },
    {
      "cell_type": "markdown",
      "metadata": {
        "id": "68c7f61d"
      },
      "source": [
        "可以看出，共读取了3668个名字。为了简单起见，我们将所有的大写字母转换为小写。"
      ],
      "id": "68c7f61d"
    },
    {
      "cell_type": "code",
      "metadata": {
        "id": "8700c2c8",
        "colab": {
          "base_uri": "https://localhost:8080/"
        },
        "outputId": "1673d4bb-6127-4fcf-a143-630bc94e9b8b"
      },
      "source": [
        "names = [s.lower() for s in lines]\n",
        "print(names[0:5])"
      ],
      "id": "8700c2c8",
      "execution_count": 30,
      "outputs": [
        {
          "output_type": "stream",
          "text": [
            "['abbas', 'abbey', 'abbott', 'abdi', 'abel']\n"
          ],
          "name": "stdout"
        }
      ]
    },
    {
      "cell_type": "markdown",
      "metadata": {
        "id": "fe2499d0"
      },
      "source": [
        "接下来我们需要构建一个字符的字典。对于英文名来说很简单，即26个字母。我们可以通过下面的代码直接得到。"
      ],
      "id": "fe2499d0"
    },
    {
      "cell_type": "code",
      "metadata": {
        "id": "2c54b9e2",
        "colab": {
          "base_uri": "https://localhost:8080/",
          "height": 37
        },
        "outputId": "89b98ea3-1d3c-429f-9cfa-23b7bd7321cd"
      },
      "source": [
        "import string\n",
        "dict = string.ascii_lowercase\n",
        "dict"
      ],
      "id": "2c54b9e2",
      "execution_count": 31,
      "outputs": [
        {
          "output_type": "execute_result",
          "data": {
            "application/vnd.google.colaboratory.intrinsic+json": {
              "type": "string"
            },
            "text/plain": [
              "'abcdefghijklmnopqrstuvwxyz'"
            ]
          },
          "metadata": {
            "tags": []
          },
          "execution_count": 31
        }
      ]
    },
    {
      "cell_type": "markdown",
      "metadata": {
        "id": "cae3914e"
      },
      "source": [
        "4. 下面准备好 one-hot 编码所需的函数。编写函数 `char2index(char)`，将一个字母转换为其所在字典的位置。例如 `char2index(\"a\")` 要返回0，`char2index(\"z\")` 要返回25，等等。提示：使用字符串的 `.find()` 函数。"
      ],
      "id": "cae3914e"
    },
    {
      "cell_type": "code",
      "metadata": {
        "id": "618142d9",
        "colab": {
          "base_uri": "https://localhost:8080/"
        },
        "outputId": "f760b3ff-a688-43df-c577-6ab7c981dd47"
      },
      "source": [
        "def char2index(char):\n",
        "    # Implementation here\n",
        "    return dict.find(char)\n",
        "\n",
        "print(char2index(\"z\") == 25)"
      ],
      "id": "618142d9",
      "execution_count": 49,
      "outputs": [
        {
          "output_type": "stream",
          "text": [
            "True\n"
          ],
          "name": "stdout"
        }
      ]
    },
    {
      "cell_type": "markdown",
      "metadata": {
        "id": "bba7a6c6"
      },
      "source": [
        "编写 `char2tensor(char)` 函数，将一个字母转换为 one-hot 向量，即该向量中第 i 个元素为1，其余为0，其中 i 表示该字母在字典中的位置。\n",
        "\n",
        "**注意，该向量的长度应为27，因为我们要预留终止符，用 `[0.0, 0.0, ..., 1.0]` 表示**。\n",
        "\n",
        "`char2tensor(\"a\")` 应返回 `torch.tensor([1.0, 0.0, ...])`，`char2tensor(\"z\")` 应返回 `torch.tensor([0.0, ..., 1.0, 0.0])`。"
      ],
      "id": "bba7a6c6"
    },
    {
      "cell_type": "code",
      "metadata": {
        "id": "fe9e67d6",
        "colab": {
          "base_uri": "https://localhost:8080/"
        },
        "outputId": "c3555e77-890c-4259-9ad3-501c23c2932b"
      },
      "source": [
        "def char2tensor(char):\n",
        "    # ones = torch.sparse.torch.eye(27)\n",
        "    # select = torch.tensor([char2index(x)+1 for x in char])\n",
        "    # res = ones.index_select(0, select).sum(axis=0)\n",
        "    res = torch.zeros((27,))\n",
        "    res[char2index(char)] = 1\n",
        "    return res\n",
        "\n",
        "print(char2tensor(\"a\"))\n",
        "print(char2tensor(\"z\"))\n",
        "print(char2tensor(\"z\").shape[0] == 27)"
      ],
      "id": "fe9e67d6",
      "execution_count": 81,
      "outputs": [
        {
          "output_type": "stream",
          "text": [
            "tensor([1., 0., 0., 0., 0., 0., 0., 0., 0., 0., 0., 0., 0., 0., 0., 0., 0., 0.,\n",
            "        0., 0., 0., 0., 0., 0., 0., 0., 0.])\n",
            "tensor([0., 0., 0., 0., 0., 0., 0., 0., 0., 0., 0., 0., 0., 0., 0., 0., 0., 0.,\n",
            "        0., 0., 0., 0., 0., 0., 0., 1., 0.])\n",
            "True\n"
          ],
          "name": "stdout"
        }
      ]
    },
    {
      "cell_type": "markdown",
      "metadata": {
        "id": "dbdeaf2a"
      },
      "source": [
        "5. 构建模型。我们使用最简单的 RNN 结构，即隐藏单元是输入和上一期隐藏单元的线性变换加上 Tanh 激活函数，输出单元是隐藏单元的线性变换加上 Softmax 激活函数。输出的结果代表下一个字符的概率分布。"
      ],
      "id": "dbdeaf2a"
    },
    {
      "cell_type": "markdown",
      "metadata": {
        "id": "7e3882c4"
      },
      "source": [
        "```py\n",
        "class RNN(torch.nn.Module):\n",
        "    def __init__(self, input_size, hidden_size):\n",
        "        super(RNN, self).__init__()\n",
        "        self.hidden_size = hidden_size\n",
        "        self.i2h = ...\n",
        "        self.h2o = ...\n",
        "\n",
        "    def forward(self, input, hidden):\n",
        "        combined = torch.cat((input, hidden), dim=1)\n",
        "        hidden = torch.tanh(self.i2h(combined))\n",
        "        output = torch.nn.functional.softmax(self.h2o(hidden), dim=1)\n",
        "        return output, hidden\n",
        "\n",
        "    def init_hidden(self):\n",
        "        return torch.zeros(1, self.hidden_size)\n",
        "```"
      ],
      "id": "7e3882c4"
    },
    {
      "cell_type": "code",
      "metadata": {
        "id": "Y4LUrgoJWzQh"
      },
      "source": [
        "class RNN(torch.nn.Module):\n",
        "    def __init__(self, input_size, hidden_size):\n",
        "        super(RNN, self).__init__()\n",
        "        self.hidden_size = hidden_size\n",
        "        self.i2h = torch.nn.Linear(input_size+hidden_size, hidden_size)\n",
        "        self.h2o = torch.nn.Linear(hidden_size, 27)\n",
        "    \n",
        "    def forward(self, input, hidden):\n",
        "        combined = torch.cat((input, hidden), dim=1)\n",
        "        hidden = torch.tanh(self.i2h(combined))\n",
        "        output = torch.nn.functional.softmax(self.h2o(hidden), dim=1)\n",
        "        return output, hidden\n",
        "    \n",
        "    def init_hidden(self):\n",
        "        return torch.zeros(1, self.hidden_size)"
      ],
      "id": "Y4LUrgoJWzQh",
      "execution_count": 82,
      "outputs": []
    },
    {
      "cell_type": "markdown",
      "metadata": {
        "id": "f239d9cb"
      },
      "source": [
        "我们做一个简单的测试。请在下面的代码中加入适当的语句，使得每次运行的结果不变。根据其输出结果，请问当前模型预测字符a的下一个字符是什么？为什么？"
      ],
      "id": "f239d9cb"
    },
    {
      "cell_type": "code",
      "metadata": {
        "id": "3648bc0d",
        "colab": {
          "base_uri": "https://localhost:8080/"
        },
        "outputId": "b3f364d5-8c78-4b53-bb59-994dea0e9bca"
      },
      "source": [
        "rnn = RNN(input_size=27, hidden_size=10)\n",
        "input = char2tensor(\"a\")\n",
        "hidden = rnn.init_hidden()\n",
        "output, hidden = rnn(input.view(1, 27), hidden)\n",
        "print(output)"
      ],
      "id": "3648bc0d",
      "execution_count": 83,
      "outputs": [
        {
          "output_type": "stream",
          "text": [
            "tensor([[0.0383, 0.0323, 0.0385, 0.0263, 0.0415, 0.0433, 0.0386, 0.0255, 0.0419,\n",
            "         0.0336, 0.0325, 0.0368, 0.0449, 0.0319, 0.0451, 0.0417, 0.0359, 0.0413,\n",
            "         0.0258, 0.0272, 0.0486, 0.0472, 0.0285, 0.0295, 0.0438, 0.0377, 0.0417]],\n",
            "       grad_fn=<SoftmaxBackward>)\n"
          ],
          "name": "stdout"
        }
      ]
    },
    {
      "cell_type": "markdown",
      "metadata": {
        "id": "533cf035"
      },
      "source": [
        "6. 接下来我们定义好损失函数。与第1题中类似，预测值是一个概率分布，而真实的标签是0到26中的一个整数，代表真实的下一个字符在字典中的位置。假设当前处理的名字为\"abel\"，那么字符a的输出结果对应的标签是什么？请完成下面的代码。"
      ],
      "id": "533cf035"
    },
    {
      "cell_type": "code",
      "metadata": {
        "scrolled": true,
        "id": "8cd6762c",
        "colab": {
          "base_uri": "https://localhost:8080/"
        },
        "outputId": "ab6c05c9-4086-42d5-d6ed-ee1789b179ac"
      },
      "source": [
        "# Change \"target\" to a proper value\n",
        "target = char2index(\"a\")\n",
        "\n",
        "lossfn = torch.nn.NLLLoss()\n",
        "loss = lossfn(torch.log(output), torch.tensor([target]))\n",
        "print(loss)"
      ],
      "id": "8cd6762c",
      "execution_count": 85,
      "outputs": [
        {
          "output_type": "stream",
          "text": [
            "tensor(3.2634, grad_fn=<NllLossBackward>)\n"
          ],
          "name": "stdout"
        }
      ]
    },
    {
      "cell_type": "markdown",
      "metadata": {
        "id": "3257635e"
      },
      "source": [
        "7. 明确单个字符的损失函数的计算方法后，请在下面计算出\"abel\"这个观测整体的损失函数值。"
      ],
      "id": "3257635e"
    },
    {
      "cell_type": "code",
      "metadata": {
        "id": "d0a43013",
        "colab": {
          "base_uri": "https://localhost:8080/"
        },
        "outputId": "f63f4c69-6a9b-45c5-93aa-d3258bcfdfcd"
      },
      "source": [
        "y = \"abel\"\n",
        "loss = 0\n",
        "nchar = len(y)\n",
        "for i, alp in enumerate(y):\n",
        "    input = char2tensor(alp)\n",
        "    if i == 0:\n",
        "        hidden = rnn.init_hidden()\n",
        "    output, hidden = rnn(input.view(1, 27), hidden)\n",
        "    if i == nchar - 1:\n",
        "        target = 26\n",
        "    else:\n",
        "        target = char2index(y[i+1])\n",
        "    loss += lossfn(torch.log(output), torch.tensor([target]))\n",
        "loss = loss / nchar\n",
        "print(loss)"
      ],
      "id": "d0a43013",
      "execution_count": 89,
      "outputs": [
        {
          "output_type": "stream",
          "text": [
            "tensor(2.3537, grad_fn=<DivBackward0>)\n"
          ],
          "name": "stdout"
        }
      ]
    },
    {
      "cell_type": "markdown",
      "metadata": {
        "id": "969e62e5"
      },
      "source": [
        "8. 将上述过程在数据上进行反复迭代，训练模型。"
      ],
      "id": "969e62e5"
    },
    {
      "cell_type": "code",
      "metadata": {
        "scrolled": true,
        "id": "7eea6312",
        "colab": {
          "base_uri": "https://localhost:8080/"
        },
        "outputId": "32ed37f6-5f99-4494-d046-bd1de02acb33"
      },
      "source": [
        "np.random.seed(123)\n",
        "torch.random.manual_seed(123)\n",
        "\n",
        "n = len(names)\n",
        "n_hidden = 16\n",
        "n_input = 27\n",
        "nepoch = 10\n",
        "\n",
        "rnn = RNN(n_input, n_hidden)\n",
        "opt = torch.optim.Adam(rnn.parameters(), lr=0.0001)\n",
        "train_ind = np.arange(n)\n",
        "losses = []\n",
        "\n",
        "lossfn = torch.nn.NLLLoss()\n",
        "\n",
        "# Loop over epochs\n",
        "for k in range(nepoch):\n",
        "    # Shuffle the data\n",
        "    np.random.shuffle(train_ind)\n",
        "    # Loop over observations. Each observation is a name\n",
        "    for i in range(n):\n",
        "        name = names[train_ind[i]]\n",
        "        nchar = len(name)\n",
        "        # Loop over the characters in the name\n",
        "        # Each input character has a target, which is the index of the next character in the dictionary\n",
        "        # For the last character in the name, the target is the end-of-sequence symbol, which has index 26\n",
        "        loss = 0.0\n",
        "        hidden = rnn.init_hidden()\n",
        "        for j in range(nchar):\n",
        "            input = char2tensor(name[j])\n",
        "            output, hidden = rnn(input.view(1, n_input), hidden)\n",
        "\n",
        "            if j == nchar - 1:\n",
        "                target = 26\n",
        "            else:\n",
        "                target = char2index(name[j+1])\n",
        "\n",
        "            loss = loss + lossfn(torch.log(output), torch.tensor([target]))\n",
        "    \n",
        "        loss = loss / nchar\n",
        "\n",
        "        opt.zero_grad()\n",
        "        loss.backward()\n",
        "        opt.step()\n",
        "\n",
        "        losses.append(loss.item())\n",
        "        if i % 1000 == 0:\n",
        "            print(f\"epoch {k}, obs {i}, loss = {loss.item()}\")"
      ],
      "id": "7eea6312",
      "execution_count": 148,
      "outputs": [
        {
          "output_type": "stream",
          "text": [
            "epoch 0, obs 0, loss = 3.3991856575012207\n",
            "epoch 0, obs 1000, loss = 2.918344020843506\n",
            "epoch 0, obs 2000, loss = 2.6398532390594482\n",
            "epoch 0, obs 3000, loss = 3.1096529960632324\n",
            "epoch 1, obs 0, loss = 2.776276111602783\n",
            "epoch 1, obs 1000, loss = 2.5617995262145996\n",
            "epoch 1, obs 2000, loss = 2.4159867763519287\n",
            "epoch 1, obs 3000, loss = 2.4527029991149902\n",
            "epoch 2, obs 0, loss = 2.5975751876831055\n",
            "epoch 2, obs 1000, loss = 2.585355520248413\n",
            "epoch 2, obs 2000, loss = 2.5821337699890137\n",
            "epoch 2, obs 3000, loss = 2.7673683166503906\n",
            "epoch 3, obs 0, loss = 2.584155559539795\n",
            "epoch 3, obs 1000, loss = 2.1915831565856934\n",
            "epoch 3, obs 2000, loss = 2.4389891624450684\n",
            "epoch 3, obs 3000, loss = 2.0150928497314453\n",
            "epoch 4, obs 0, loss = 2.4576306343078613\n",
            "epoch 4, obs 1000, loss = 2.912224769592285\n",
            "epoch 4, obs 2000, loss = 2.5470447540283203\n",
            "epoch 4, obs 3000, loss = 2.1251463890075684\n",
            "epoch 5, obs 0, loss = 2.283302068710327\n",
            "epoch 5, obs 1000, loss = 2.564319133758545\n",
            "epoch 5, obs 2000, loss = 2.1136810779571533\n",
            "epoch 5, obs 3000, loss = 2.19895601272583\n",
            "epoch 6, obs 0, loss = 2.385223388671875\n",
            "epoch 6, obs 1000, loss = 2.7023868560791016\n",
            "epoch 6, obs 2000, loss = 2.240619659423828\n",
            "epoch 6, obs 3000, loss = 2.557904005050659\n",
            "epoch 7, obs 0, loss = 1.9776948690414429\n",
            "epoch 7, obs 1000, loss = 1.716722011566162\n",
            "epoch 7, obs 2000, loss = 1.6471465826034546\n",
            "epoch 7, obs 3000, loss = 1.972745418548584\n",
            "epoch 8, obs 0, loss = 2.3119893074035645\n",
            "epoch 8, obs 1000, loss = 2.0465922355651855\n",
            "epoch 8, obs 2000, loss = 2.7650794982910156\n",
            "epoch 8, obs 3000, loss = 1.8902024030685425\n",
            "epoch 9, obs 0, loss = 2.1596932411193848\n",
            "epoch 9, obs 1000, loss = 2.3838236331939697\n",
            "epoch 9, obs 2000, loss = 2.1008870601654053\n",
            "epoch 9, obs 3000, loss = 3.150839328765869\n"
          ],
          "name": "stdout"
        }
      ]
    },
    {
      "cell_type": "code",
      "metadata": {
        "id": "945bdfe5",
        "colab": {
          "base_uri": "https://localhost:8080/",
          "height": 283
        },
        "outputId": "eb8cc549-8f89-4a77-c813-97e36ede933d"
      },
      "source": [
        "import matplotlib.pyplot as plt\n",
        "plt.plot(losses)"
      ],
      "id": "945bdfe5",
      "execution_count": 178,
      "outputs": [
        {
          "output_type": "execute_result",
          "data": {
            "text/plain": [
              "[<matplotlib.lines.Line2D at 0x7f0c018b57d0>]"
            ]
          },
          "metadata": {
            "tags": []
          },
          "execution_count": 178
        },
        {
          "output_type": "display_data",
          "data": {
            "image/png": "[encoded data removed]",
            "text/plain": [
              "<Figure size 432x288 with 1 Axes>"
            ]
          },
          "metadata": {
            "tags": [],
            "needs_background": "light"
          }
        }
      ]
    },
    {
      "cell_type": "markdown",
      "metadata": {
        "id": "1ee490dc"
      },
      "source": [
        "9. 编写一个函数 `random_first_letter()`，它随机返回字典中的一个字符，我们将利用它来随机生成第一个字符。"
      ],
      "id": "1ee490dc"
    },
    {
      "cell_type": "code",
      "metadata": {
        "id": "e08363c9",
        "colab": {
          "base_uri": "https://localhost:8080/"
        },
        "outputId": "7e8293dc-da15-490a-afe0-a132dcbe85a9"
      },
      "source": [
        "def random_first_letter():\n",
        "    return np.random.choice([a for a in dict])\n",
        "\n",
        "print(random_first_letter())\n",
        "print(random_first_letter())\n",
        "print(random_first_letter())"
      ],
      "id": "e08363c9",
      "execution_count": 179,
      "outputs": [
        {
          "output_type": "stream",
          "text": [
            "z\n",
            "m\n",
            "g\n"
          ],
          "name": "stdout"
        }
      ]
    },
    {
      "cell_type": "markdown",
      "metadata": {
        "id": "0181a2a9"
      },
      "source": [
        "请简要说明如下的代码的含义（可以在代码中加入注释），然后利用它随机生成10个名字。评价生成的结果，并简要说明可以如何改进模型的效果？"
      ],
      "id": "0181a2a9"
    },
    {
      "cell_type": "code",
      "metadata": {
        "id": "6890de6c"
      },
      "source": [
        "def random_name(max_len=20):\n",
        "    rnn.eval()  # 抽离计算图，计算过程不更新梯度\n",
        "    first_letter = random_first_letter()  # 随机生成第一个字符\n",
        "    char_ind = [char2index(first_letter)]  # 用于保存生成的名字，并把首个字母加进去\n",
        "    input = char2tensor(first_letter)  # 转化为tensor\n",
        "    # print(input)\n",
        "    hidden = rnn.init_hidden()  # 初始化隐藏层输出\n",
        "    for i in range(max_len - 1):\n",
        "        output, hidden = rnn(input.view(1, n_input), hidden)  # 循环计算\n",
        "        # print(output)\n",
        "        ind = torch.argmax(output).item()  # 把概率最高的取为输出值\n",
        "        # print(ind)\n",
        "        if ind == 26:  # 这里有修改，因为我定义0为未知字符\n",
        "            break\n",
        "        char_ind.append(ind)  # 加入下一个模型预测的字母\n",
        "        input.zero_()  # 新的输入是上次输出的字符\n",
        "        input[ind] = 1.0\n",
        "        # print(input)\n",
        "    return \"\".join([dict[i] for i in char_ind])  # 拼接并返回"
      ],
      "id": "6890de6c",
      "execution_count": 180,
      "outputs": []
    },
    {
      "cell_type": "markdown",
      "metadata": {
        "id": "UPB4oot65s1J"
      },
      "source": [
        "可以看到，生成的名字长度适中，但是看起来并不是合理的名字(并且rlen结尾出现多次)，结合训练时损失函数的下降并不顺利，考虑是由于RNN难以训练导致的欠拟合；可以考虑换为GRU模型或者LSTM模型。"
      ],
      "id": "UPB4oot65s1J"
    },
    {
      "cell_type": "code",
      "metadata": {
        "colab": {
          "base_uri": "https://localhost:8080/"
        },
        "id": "Zis7lJ1Uz6u2",
        "outputId": "ffca6c1c-92a3-4833-d096-66143de8f758"
      },
      "source": [
        "for i in range(10):\n",
        "    print(random_name())"
      ],
      "id": "Zis7lJ1Uz6u2",
      "execution_count": 181,
      "outputs": [
        {
          "output_type": "stream",
          "text": [
            "xarle\n",
            "kerlen\n",
            "oner\n",
            "oner\n",
            "oner\n",
            "ine\n",
            "nerlen\n",
            "darlen\n",
            "yar\n",
            "marlen\n"
          ],
          "name": "stdout"
        }
      ]
    },
    {
      "cell_type": "markdown",
      "metadata": {
        "id": "380b764e"
      },
      "source": [
        "### 第3题"
      ],
      "id": "380b764e"
    },
    {
      "cell_type": "markdown",
      "metadata": {
        "id": "31c1914c"
      },
      "source": [
        "利用卷积函数实现任意大整数的乘法。给定两个整数，如 183612 和 23333，用两个列表表达它们的序列："
      ],
      "id": "31c1914c"
    },
    {
      "cell_type": "code",
      "metadata": {
        "id": "20e24e3e"
      },
      "source": [
        "n1 = [1, 8, 3, 6, 1, 2]\n",
        "n2 = [2, 3, 3, 3, 3]"
      ],
      "id": "20e24e3e",
      "execution_count": 122,
      "outputs": []
    },
    {
      "cell_type": "markdown",
      "metadata": {
        "id": "b41eb75c"
      },
      "source": [
        "请编写一个函数 `integer_mult(n1, n2)`，返回 `n1 * n2` 对应的整数序列。注意不要直接调用乘法表达式（设想有两个非常大的整数，直接相乘可能会导致数值溢出）。"
      ],
      "id": "b41eb75c"
    },
    {
      "cell_type": "code",
      "metadata": {
        "id": "9eV_fhGsZpMC"
      },
      "source": [
        "def str2list(n1):\n",
        "    return [int(x) for x in n1]"
      ],
      "id": "9eV_fhGsZpMC",
      "execution_count": 125,
      "outputs": []
    },
    {
      "cell_type": "code",
      "metadata": {
        "id": "ltsdWqE2a5wk"
      },
      "source": [
        "from math import floor"
      ],
      "id": "ltsdWqE2a5wk",
      "execution_count": 126,
      "outputs": []
    },
    {
      "cell_type": "code",
      "metadata": {
        "id": "b10932c8",
        "colab": {
          "base_uri": "https://localhost:8080/"
        },
        "outputId": "04f2b991-40e5-4666-9837-a1cc301d6e2b"
      },
      "source": [
        "def integer_mult(n1, n2):\n",
        "    # Implementation here\n",
        "    p, q = str2list(n1), str2list(n2)\n",
        "    p.reverse()\n",
        "    q.reverse()\n",
        "\n",
        "    tmp_res = np.convolve(p, q)\n",
        "\n",
        "    # 进位\n",
        "    res = []\n",
        "    add = 0\n",
        "    for i, n_ in enumerate(tmp_res):\n",
        "        n = n_ + add\n",
        "        if n <= 9:\n",
        "            res.append(n)\n",
        "            add = 0\n",
        "        else:\n",
        "            res.append(n % 10)\n",
        "            add = n // 10\n",
        "    if add != 0:\n",
        "        res.append(add)\n",
        "    \n",
        "    res.reverse()\n",
        "    return res\n",
        "\n",
        "res = integer_mult(n1, n2)\n",
        "print(res == [4, 2, 8, 4, 2, 1, 8, 7, 9, 6])"
      ],
      "id": "b10932c8",
      "execution_count": 140,
      "outputs": [
        {
          "output_type": "stream",
          "text": [
            "True\n"
          ],
          "name": "stdout"
        }
      ]
    },
    {
      "cell_type": "markdown",
      "metadata": {
        "id": "615d618d"
      },
      "source": [
        "思路："
      ],
      "id": "615d618d"
    },
    {
      "cell_type": "markdown",
      "metadata": {
        "id": "892ba308"
      },
      "source": [
        "1. 先实现多项式的乘法。例如，给定 $p(x)=1+2x+x^4$ 和 $q(x)=x+3x^2+5x^3$，计算 $r(x)=p(x)q(x)$。我们将 $p(x)$ 编码为 `p = [1, 2, 0, 0, 1]`，$q(x)$ 编码为 `q = [0, 1, 3, 5]`，请编写函数 `poly_mult(p, q)`，使得 `poly_mult(p, q) == [0, 1, 5, 11, 10, 1, 3, 5]`。"
      ],
      "id": "892ba308"
    },
    {
      "cell_type": "code",
      "metadata": {
        "id": "b015b0c4",
        "colab": {
          "base_uri": "https://localhost:8080/"
        },
        "outputId": "f1e27b74-17c3-41d1-f23f-b82b09bf2f79"
      },
      "source": [
        "p = [1, 2, 0, 0, 1]\n",
        "q = [0, 1, 3, 5]\n",
        "\n",
        "def poly_mult(p, q):\n",
        "    # Implementation here\n",
        "    res = np.convolve(p, q)\n",
        "    return res\n",
        "\n",
        "print(poly_mult(p, q) == [0, 1, 5, 11, 10,  1, 3, 5])"
      ],
      "id": "b015b0c4",
      "execution_count": 123,
      "outputs": [
        {
          "output_type": "stream",
          "text": [
            "[ True  True  True  True  True  True  True  True]\n"
          ],
          "name": "stdout"
        }
      ]
    },
    {
      "cell_type": "markdown",
      "metadata": {
        "id": "be7b1b8d"
      },
      "source": [
        "2. 对于任意的一个整数，将其看成是某个多项式在 $x=10$ 处的取值，如 $123 = p_1(10)$，$p_1(x)=3+2x+x^2$，$5310 = p_2(10)$，$p_2(x)=x+3x^2+5x^3$，注意需要适当将序列反序。因此，要计算 $123\\times 5310$，相当于计算 $r(10)$ 的值，但为了避免直接进行乘法运算（防止溢出），可以先计算 $r(x)$ 的表达式（等价于其系数向量），然后建立起 $r(x)$ 的系数与 $r(10)$ 之间的联系（见如下第3点）。"
      ],
      "id": "be7b1b8d"
    },
    {
      "cell_type": "markdown",
      "metadata": {
        "id": "4ea4421d"
      },
      "source": [
        "3. 如果一个多项式 $r(x)$ 所有的系数都是0到9之间的整数，那么 $r(x)$ 和 $r(10)$ 的关系非常直接，比如若 $r(x)=1+2x+5x^2+3x^3$，则 $r(10)=3521$。但如果有系数超过10，就需要考虑进位的影响，比如 $r(x)=1+11x+2x^2$，$r(10)=311$。此时可以从 $r(x)$ 的第一项开始逐项进位，构造一个新的多项式 $r'(x)=1+x+3x^2$，满足 $r'(10)=r(10)$，且 $r'(x)$ 所有的系数都不超过10。 "
      ],
      "id": "4ea4421d"
    },
    {
      "cell_type": "markdown",
      "metadata": {
        "id": "99d09a79"
      },
      "source": [
        "4. 综合利用以上信息，完成本题的算法编写。并测试 23742389754298365 * 809723950 的结果。"
      ],
      "id": "99d09a79"
    },
    {
      "cell_type": "code",
      "metadata": {
        "id": "-A_ERiIkcr8-"
      },
      "source": [
        "n1 = \"23742389754298365\"\n",
        "n2 = \"809723950\""
      ],
      "id": "-A_ERiIkcr8-",
      "execution_count": 141,
      "outputs": []
    },
    {
      "cell_type": "code",
      "metadata": {
        "colab": {
          "base_uri": "https://localhost:8080/",
          "height": 37
        },
        "id": "rk0kHt4gcwtD",
        "outputId": "56548b0d-ce54-4eff-c166-4d8c4f82aaa3"
      },
      "source": [
        "\"\".join([str(x) for x in integer_mult(n1, n2)])"
      ],
      "id": "rk0kHt4gcwtD",
      "execution_count": 177,
      "outputs": [
        {
          "output_type": "execute_result",
          "data": {
            "application/vnd.google.colaboratory.intrinsic+json": {
              "type": "string"
            },
            "text/plain": [
              "'19224781614290001586341750'"
            ]
          },
          "metadata": {
            "tags": []
          },
          "execution_count": 177
        }
      ]
    }
  ]
}